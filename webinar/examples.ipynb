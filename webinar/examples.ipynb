{
  "cells": [
    {
      "cell_type": "raw",
      "metadata": {
        "vscode": {
          "languageId": "raw"
        }
      },
      "source": [
        "# Webinar Examples - AI Agents and Turn-Based Game\n",
        "\n",
        "This notebook contains examples and demonstrations for the webinar project.\n"
      ]
    },
    {
      "cell_type": "raw",
      "metadata": {
        "vscode": {
          "languageId": "raw"
        }
      },
      "source": [
        "## 1. Introduction to LangChain and LangGraph\n"
      ]
    },
    {
      "cell_type": "code",
      "execution_count": null,
      "metadata": {},
      "outputs": [],
      "source": [
        "# Import required libraries\n",
        "import os\n",
        "from langchain.llms import OpenAI\n",
        "from langgraph import Graph\n",
        "\n",
        "# Basic setup\n",
        "print(\"Welcome to the AI Agents Webinar!\")\n"
      ]
    },
    {
      "cell_type": "raw",
      "metadata": {
        "vscode": {
          "languageId": "raw"
        }
      },
      "source": [
        "## 2. Game Integration Examples\n"
      ]
    },
    {
      "cell_type": "code",
      "execution_count": null,
      "metadata": {},
      "outputs": [],
      "source": [
        "# Example of API calls to the turn-based game\n",
        "import requests\n",
        "\n",
        "# Game API base URL\n",
        "API_BASE = \"http://localhost:3000/api\"\n",
        "\n",
        "def move_character(direction):\n",
        "    \"\"\"Move character in specified direction\"\"\"\n",
        "    response = requests.post(f\"{API_BASE}/character/move\", json={\"direction\": direction})\n",
        "    return response.json()\n",
        "\n",
        "def attack_target(target_position):\n",
        "    \"\"\"Attack target at specified position\"\"\"\n",
        "    response = requests.post(f\"{API_BASE}/character/attack\", json={\"target\": target_position})\n",
        "    return response.json()\n",
        "\n",
        "def scan_field():\n",
        "    \"\"\"Scan the game field for enemies and objects\"\"\"\n",
        "    response = requests.get(f\"{API_BASE}/field/scan\")\n",
        "    return response.json()\n"
      ]
    }
  ],
  "metadata": {
    "language_info": {
      "name": "python"
    }
  },
  "nbformat": 4,
  "nbformat_minor": 2
}
